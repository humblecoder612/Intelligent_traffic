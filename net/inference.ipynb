{
 "cells": [
  {
   "cell_type": "code",
   "execution_count": 1,
   "metadata": {},
   "outputs": [
    {
     "name": "stderr",
     "output_type": "stream",
     "text": [
      "Using TensorFlow backend.\n"
     ]
    }
   ],
   "source": [
    "from keras.preprocessing.image import ImageDataGenerator\n",
    "from keras.models import Sequential\n",
    "from keras.layers import Conv2D, MaxPooling2D\n",
    "from keras.layers import Activation, Dropout, Flatten, Dense\n",
    "from keras import backend as K"
   ]
  },
  {
   "cell_type": "code",
   "execution_count": 2,
   "metadata": {},
   "outputs": [],
   "source": [
    "import keras.models\n",
    "from keras.preprocessing.image import ImageDataGenerator\n",
    "from keras import optimizers"
   ]
  },
  {
   "cell_type": "code",
   "execution_count": 3,
   "metadata": {},
   "outputs": [
    {
     "name": "stdout",
     "output_type": "stream",
     "text": [
      "WARNING:tensorflow:From C:\\ProgramData\\Anaconda3\\lib\\site-packages\\keras\\backend\\tensorflow_backend.py:517: The name tf.placeholder is deprecated. Please use tf.compat.v1.placeholder instead.\n",
      "\n",
      "WARNING:tensorflow:From C:\\ProgramData\\Anaconda3\\lib\\site-packages\\keras\\backend\\tensorflow_backend.py:4138: The name tf.random_uniform is deprecated. Please use tf.random.uniform instead.\n",
      "\n",
      "WARNING:tensorflow:From C:\\ProgramData\\Anaconda3\\lib\\site-packages\\keras\\backend\\tensorflow_backend.py:3976: The name tf.nn.max_pool is deprecated. Please use tf.nn.max_pool2d instead.\n",
      "\n",
      "WARNING:tensorflow:From C:\\ProgramData\\Anaconda3\\lib\\site-packages\\keras\\backend\\tensorflow_backend.py:131: The name tf.get_default_graph is deprecated. Please use tf.compat.v1.get_default_graph instead.\n",
      "\n",
      "WARNING:tensorflow:From C:\\ProgramData\\Anaconda3\\lib\\site-packages\\keras\\backend\\tensorflow_backend.py:133: The name tf.placeholder_with_default is deprecated. Please use tf.compat.v1.placeholder_with_default instead.\n",
      "\n",
      "WARNING:tensorflow:From C:\\ProgramData\\Anaconda3\\lib\\site-packages\\keras\\backend\\tensorflow_backend.py:3445: calling dropout (from tensorflow.python.ops.nn_ops) with keep_prob is deprecated and will be removed in a future version.\n",
      "Instructions for updating:\n",
      "Please use `rate` instead of `keep_prob`. Rate should be set to `rate = 1 - keep_prob`.\n",
      "WARNING:tensorflow:From C:\\ProgramData\\Anaconda3\\lib\\site-packages\\keras\\backend\\tensorflow_backend.py:174: The name tf.get_default_session is deprecated. Please use tf.compat.v1.get_default_session instead.\n",
      "\n",
      "WARNING:tensorflow:From C:\\ProgramData\\Anaconda3\\lib\\site-packages\\keras\\backend\\tensorflow_backend.py:181: The name tf.ConfigProto is deprecated. Please use tf.compat.v1.ConfigProto instead.\n",
      "\n",
      "WARNING:tensorflow:From C:\\ProgramData\\Anaconda3\\lib\\site-packages\\keras\\backend\\tensorflow_backend.py:186: The name tf.Session is deprecated. Please use tf.compat.v1.Session instead.\n",
      "\n",
      "WARNING:tensorflow:From C:\\ProgramData\\Anaconda3\\lib\\site-packages\\keras\\backend\\tensorflow_backend.py:190: The name tf.global_variables is deprecated. Please use tf.compat.v1.global_variables instead.\n",
      "\n",
      "WARNING:tensorflow:From C:\\ProgramData\\Anaconda3\\lib\\site-packages\\keras\\backend\\tensorflow_backend.py:199: The name tf.is_variable_initialized is deprecated. Please use tf.compat.v1.is_variable_initialized instead.\n",
      "\n",
      "WARNING:tensorflow:From C:\\ProgramData\\Anaconda3\\lib\\site-packages\\keras\\backend\\tensorflow_backend.py:206: The name tf.variables_initializer is deprecated. Please use tf.compat.v1.variables_initializer instead.\n",
      "\n",
      "WARNING:tensorflow:From C:\\ProgramData\\Anaconda3\\lib\\site-packages\\keras\\optimizers.py:790: The name tf.train.Optimizer is deprecated. Please use tf.compat.v1.train.Optimizer instead.\n",
      "\n",
      "WARNING:tensorflow:From C:\\ProgramData\\Anaconda3\\lib\\site-packages\\keras\\backend\\tensorflow_backend.py:3376: The name tf.log is deprecated. Please use tf.math.log instead.\n",
      "\n",
      "WARNING:tensorflow:From C:\\ProgramData\\Anaconda3\\lib\\site-packages\\tensorflow_core\\python\\ops\\nn_impl.py:183: where (from tensorflow.python.ops.array_ops) is deprecated and will be removed in a future version.\n",
      "Instructions for updating:\n",
      "Use tf.where in 2.0, which has the same broadcast rule as np.where\n",
      "WARNING:tensorflow:From C:\\ProgramData\\Anaconda3\\lib\\site-packages\\keras\\backend\\tensorflow_backend.py:986: The name tf.assign_add is deprecated. Please use tf.compat.v1.assign_add instead.\n",
      "\n",
      "WARNING:tensorflow:From C:\\ProgramData\\Anaconda3\\lib\\site-packages\\keras\\backend\\tensorflow_backend.py:973: The name tf.assign is deprecated. Please use tf.compat.v1.assign instead.\n",
      "\n"
     ]
    }
   ],
   "source": [
    "model = keras.models.load_model('first_try.h5')\n",
    "model.compile(loss='binary_crossentropy',\n",
    "              optimizer='adam',\n",
    "              metrics=['accuracy'])"
   ]
  },
  {
   "cell_type": "code",
   "execution_count": 9,
   "metadata": {},
   "outputs": [],
   "source": [
    "IMG_SIZE=150\n",
    "import glob\n",
    "\n",
    "cv_img =list(glob.glob(\"./frames/*.png\"))"
   ]
  },
  {
   "cell_type": "code",
   "execution_count": 10,
   "metadata": {},
   "outputs": [],
   "source": [
    "img_path=\"delhi-traffic.jpg\"\n",
    "import numpy as np\n",
    "import cv2"
   ]
  },
  {
   "cell_type": "code",
   "execution_count": 11,
   "metadata": {},
   "outputs": [
    {
     "data": {
      "text/plain": [
       "['./frames\\\\frame120.png',\n",
       " './frames\\\\frame180.png',\n",
       " './frames\\\\frame240.png',\n",
       " './frames\\\\frame300.png',\n",
       " './frames\\\\frame360.png',\n",
       " './frames\\\\frame420.png',\n",
       " './frames\\\\frame480.png',\n",
       " './frames\\\\frame540.png',\n",
       " './frames\\\\frame60.png',\n",
       " './frames\\\\frame600.png',\n",
       " './frames\\\\frame660.png',\n",
       " './frames\\\\frame720.png',\n",
       " './frames\\\\frame780.png',\n",
       " './frames\\\\frame840.png',\n",
       " './frames\\\\frame900.png',\n",
       " './frames\\\\frame_1_120.png',\n",
       " './frames\\\\frame_1_150.png',\n",
       " './frames\\\\frame_1_180.png',\n",
       " './frames\\\\frame_1_210.png',\n",
       " './frames\\\\frame_1_30.png',\n",
       " './frames\\\\frame_1_60.png',\n",
       " './frames\\\\frame_1_90.png']"
      ]
     },
     "execution_count": 11,
     "metadata": {},
     "output_type": "execute_result"
    }
   ],
   "source": [
    "cv_img"
   ]
  },
  {
   "cell_type": "code",
   "execution_count": 12,
   "metadata": {},
   "outputs": [
    {
     "name": "stdout",
     "output_type": "stream",
     "text": [
      "accident\n",
      "accident\n",
      "accident\n",
      "accident\n",
      "accident\n",
      "accident\n",
      "accident\n",
      "accident\n",
      "accident\n",
      "accident\n",
      "accident\n",
      "accident\n",
      "accident\n",
      "accident\n",
      "accident\n",
      "accident\n",
      "accident\n",
      "accident\n",
      "accident\n",
      "accident\n",
      "accident\n",
      "accident\n"
     ]
    }
   ],
   "source": [
    "from keras.preprocessing import image\n",
    "for i in range(0,len(cv_img)):\n",
    "    img = image.load_img(cv_img[0], target_size=(IMG_SIZE, IMG_SIZE))\n",
    "    img = np.expand_dims(img, axis=0)\n",
    "    result=model.predict(img)\n",
    "    if result[0][0] == 0:\n",
    "        print('non accident')\n",
    "    else:\n",
    "        print('accident')\n",
    "# 0 non-accident\n",
    "#1 accident"
   ]
  },
  {
   "cell_type": "code",
   "execution_count": 69,
   "metadata": {},
   "outputs": [
    {
     "name": "stdout",
     "output_type": "stream",
     "text": [
      " Volume in drive C is Windows-SSD\n",
      " Volume Serial Number is 184C-362B\n",
      "\n",
      " Directory of C:\\Users\\yash chaudhary\\traffic\\Net\\trafficnet_dataset_v1\n",
      "\n",
      "18-01-2020  16:42    <DIR>          .\n",
      "18-01-2020  16:42    <DIR>          ..\n",
      "18-01-2020  15:47    <DIR>          .ipynb_checkpoints\n",
      "16-01-2020  01:18            17,455 abu.jpg\n",
      "18-01-2020  16:41            30,339 bmw.jpeg\n",
      "18-01-2020  04:21        76,546,176 bottleneck_features_train.npy\n",
      "18-01-2020  04:22        15,728,768 bottleneck_features_validation.npy\n",
      "15-01-2020  13:52           181,474 delhi-traffic.jpg\n",
      "18-01-2020  16:42            11,495 download.jpg\n",
      "18-01-2020  04:22         8,403,628 fc_model.h5\n",
      "18-01-2020  15:28       104,033,248 first_net.h5\n",
      "16-01-2020  01:21             6,135 images.jpg\n",
      "18-01-2020  16:41             2,989 inference.ipynb\n",
      "18-01-2020  16:02            36,438 Modeler.ipynb\n",
      "18-01-2020  01:37    <DIR>          train\n",
      "18-01-2020  01:45    <DIR>          valid\n",
      "18-01-2020  03:08       553,479,920 vgg16_weights.h5\n",
      "              12 File(s)    758,478,065 bytes\n",
      "               5 Dir(s)  71,195,082,752 bytes free\n"
     ]
    }
   ],
   "source": []
  },
  {
   "cell_type": "code",
   "execution_count": null,
   "metadata": {},
   "outputs": [],
   "source": []
  }
 ],
 "metadata": {
  "kernelspec": {
   "display_name": "Python 3",
   "language": "python",
   "name": "python3"
  },
  "language_info": {
   "codemirror_mode": {
    "name": "ipython",
    "version": 3
   },
   "file_extension": ".py",
   "mimetype": "text/x-python",
   "name": "python",
   "nbconvert_exporter": "python",
   "pygments_lexer": "ipython3",
   "version": "3.6.9"
  }
 },
 "nbformat": 4,
 "nbformat_minor": 2
}

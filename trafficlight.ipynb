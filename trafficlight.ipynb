{
 "cells": [
  {
   "cell_type": "code",
   "execution_count": 46,
   "metadata": {},
   "outputs": [],
   "source": [
    "#imports\n",
    "import time"
   ]
  },
  {
   "cell_type": "code",
   "execution_count": 44,
   "metadata": {},
   "outputs": [],
   "source": [
    "#initials\n",
    "ADMIN_AUTO0_OR_MANUAL1=['AUTO', 'MANUAL']\n",
    "INITIAL_GREEN_LIGHT={'N_S':1, 'E_W':0, 'S_N':0, 'W_E':0} "
   ]
  },
  {
   "cell_type": "code",
   "execution_count": null,
   "metadata": {},
   "outputs": [],
   "source": [
    "while ADMIN:"
   ]
  },
  {
   "cell_type": "code",
   "execution_count": null,
   "metadata": {},
   "outputs": [],
   "source": [
    "'''\n",
    "Turns signal green for the input lane\n",
    "'''\n",
    "def givegreensignal(lane): #yet to implement time period for this method\n",
    "    turn_all_red()\n",
    "    GREEN_LIGHT[lane]=1"
   ]
  },
  {
   "cell_type": "code",
   "execution_count": 40,
   "metadata": {},
   "outputs": [],
   "source": [
    "'''\n",
    "Turns all signals red\n",
    "'''\n",
    "def turn_all_red():\n",
    "    cooldown()\n",
    "    for keys in GREEN_LIGHT.keys():\n",
    "        GREEN_LIGHT[keys]=0 "
   ]
  },
  {
   "cell_type": "code",
   "execution_count": 39,
   "metadata": {},
   "outputs": [],
   "source": [
    "'''\n",
    "Count down before turning the signal red\n",
    "'''\n",
    "def cooldown():\n",
    "    for i in reversed(range(COUNTDOWN)):\n",
    "        print(i+1)\n",
    "        time.sleep(1)"
   ]
  },
  {
   "cell_type": "code",
   "execution_count": 45,
   "metadata": {},
   "outputs": [
    {
     "name": "stdout",
     "output_type": "stream",
     "text": [
      "{'N_S': 1, 'E_W': 0, 'S_N': 0, 'W_E': 0} \n",
      " {'N_S': 1, 'E_W': 0, 'S_N': 0, 'W_E': 0}\n",
      "5\n",
      "4\n",
      "3\n",
      "2\n",
      "1\n",
      "{'N_S': 0, 'E_W': 0, 'S_N': 0, 'W_E': 0}\n"
     ]
    }
   ],
   "source": [
    "# GREEN_LIGHT=INITIAL_GREEN_LIGHT\n",
    "# print(GREEN_LIGHT,'\\n' ,INITIAL_GREEN_LIGHT)\n",
    "# turn_all_red()\n",
    "# print(GREEN_LIGHT)\n",
    "# for keys in GREEN_LIGHT.keys():\n",
    "#     GREEN_LIGHT[keys]=0\n",
    "# GREEN_LIGHT"
   ]
  },
  {
   "cell_type": "code",
   "execution_count": 48,
   "metadata": {},
   "outputs": [
    {
     "ename": "NameError",
     "evalue": "name 'self' is not defined",
     "output_type": "error",
     "traceback": [
      "\u001b[0;31m---------------------------------------------------------------------------\u001b[0m",
      "\u001b[0;31mNameError\u001b[0m                                 Traceback (most recent call last)",
      "\u001b[0;32m<ipython-input-48-54a59224ca6a>\u001b[0m in \u001b[0;36m<module>\u001b[0;34m\u001b[0m\n\u001b[0;32m----> 1\u001b[0;31m \u001b[0;32mclass\u001b[0m \u001b[0mtraffic\u001b[0m\u001b[0;34m:\u001b[0m\u001b[0;34m\u001b[0m\u001b[0;34m\u001b[0m\u001b[0m\n\u001b[0m\u001b[1;32m      2\u001b[0m \u001b[0;34m\u001b[0m\u001b[0m\n\u001b[1;32m      3\u001b[0m     \u001b[0;32mdef\u001b[0m \u001b[0m__init__\u001b[0m\u001b[0;34m(\u001b[0m\u001b[0mself\u001b[0m\u001b[0;34m)\u001b[0m\u001b[0;34m:\u001b[0m\u001b[0;34m\u001b[0m\u001b[0;34m\u001b[0m\u001b[0m\n\u001b[1;32m      4\u001b[0m         \u001b[0mself\u001b[0m\u001b[0;34m.\u001b[0m\u001b[0mMIN_TIME\u001b[0m\u001b[0;34m=\u001b[0m\u001b[0;36m10\u001b[0m\u001b[0;34m\u001b[0m\u001b[0;34m\u001b[0m\u001b[0m\n\u001b[1;32m      5\u001b[0m         \u001b[0mself\u001b[0m\u001b[0;34m.\u001b[0m\u001b[0mCOUNTDOWN\u001b[0m\u001b[0;34m=\u001b[0m\u001b[0;36m5\u001b[0m\u001b[0;34m\u001b[0m\u001b[0;34m\u001b[0m\u001b[0m\n",
      "\u001b[0;32m<ipython-input-48-54a59224ca6a>\u001b[0m in \u001b[0;36mtraffic\u001b[0;34m()\u001b[0m\n\u001b[1;32m     10\u001b[0m     \u001b[0mTurns\u001b[0m \u001b[0msignal\u001b[0m \u001b[0mgreen\u001b[0m \u001b[0;32mfor\u001b[0m \u001b[0mthe\u001b[0m \u001b[0minput\u001b[0m \u001b[0mlane\u001b[0m\u001b[0;34m\u001b[0m\u001b[0;34m\u001b[0m\u001b[0m\n\u001b[1;32m     11\u001b[0m     '''\n\u001b[0;32m---> 12\u001b[0;31m     \u001b[0;32mdef\u001b[0m \u001b[0mgivegreensignal\u001b[0m\u001b[0;34m(\u001b[0m\u001b[0mself\u001b[0m\u001b[0;34m,\u001b[0m \u001b[0mlane\u001b[0m\u001b[0;34m,\u001b[0m \u001b[0mduration\u001b[0m\u001b[0;34m=\u001b[0m\u001b[0mself\u001b[0m\u001b[0;34m.\u001b[0m\u001b[0mMIN_TIME\u001b[0m\u001b[0;34m)\u001b[0m\u001b[0;34m:\u001b[0m \u001b[0;31m#yet to implement time period for this method\u001b[0m\u001b[0;34m\u001b[0m\u001b[0;34m\u001b[0m\u001b[0m\n\u001b[0m\u001b[1;32m     13\u001b[0m         \u001b[0mturn_all_red\u001b[0m\u001b[0;34m(\u001b[0m\u001b[0;34m)\u001b[0m\u001b[0;34m\u001b[0m\u001b[0;34m\u001b[0m\u001b[0m\n\u001b[1;32m     14\u001b[0m         \u001b[0mself\u001b[0m\u001b[0;34m.\u001b[0m\u001b[0mGREEN_LIGHT\u001b[0m\u001b[0;34m[\u001b[0m\u001b[0mlane\u001b[0m\u001b[0;34m]\u001b[0m\u001b[0;34m=\u001b[0m\u001b[0;36m1\u001b[0m\u001b[0;34m\u001b[0m\u001b[0;34m\u001b[0m\u001b[0m\n",
      "\u001b[0;31mNameError\u001b[0m: name 'self' is not defined"
     ]
    }
   ],
   "source": [
    "class traffic:\n",
    "\n",
    "    def __init__(self):\n",
    "        self.MIN_TIME=10\n",
    "        self.COUNTDOWN=5\n",
    "        #north to south lane has green light for the initial condition5\n",
    "        self.GREEN_LIGHT={'N_S':1, 'E_W':0, 'S_N':0, 'W_E':0} \n",
    "        self.ADMIN=True\n",
    "    '''\n",
    "    Turns signal green for the input lane\n",
    "    '''\n",
    "    def givegreensignal(self, lane, duration=None): #yet to implement time period for this method\n",
    "        duration=self.MIN_TIME\n",
    "        turn_all_red()\n",
    "        self.GREEN_LIGHT[lane]=1\n",
    "        cooldown(duration)\n",
    "    '''\n",
    "    Turns all signals red\n",
    "    '''\n",
    "    def turn_all_red(self):\n",
    "        cooldown()\n",
    "        for keys in self.GREEN_LIGHT.keys():\n",
    "            self.GREEN_LIGHT[keys]=0 \n",
    "\n",
    "    '''\n",
    "    Count down before turning the signal red\n",
    "    '''\n",
    "    def cooldown(self, duration=None):\n",
    "        duration=self.COUNTDOWN\n",
    "        for i in reversed(range(duration)):\n",
    "            print(i+1)\n",
    "            time.sleep(1)"
   ]
  },
  {
   "cell_type": "code",
   "execution_count": null,
   "metadata": {},
   "outputs": [],
   "source": []
  }
 ],
 "metadata": {
  "kernelspec": {
   "display_name": "Python 3",
   "language": "python",
   "name": "python3"
  },
  "language_info": {
   "codemirror_mode": {
    "name": "ipython",
    "version": 3
   },
   "file_extension": ".py",
   "mimetype": "text/x-python",
   "name": "python",
   "nbconvert_exporter": "python",
   "pygments_lexer": "ipython3",
   "version": "3.7.3"
  }
 },
 "nbformat": 4,
 "nbformat_minor": 2
}
